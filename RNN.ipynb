{
 "cells": [
  {
   "cell_type": "markdown",
   "metadata": {},
   "source": [
    "# Social Dilemma RNN"
   ]
  },
  {
   "cell_type": "markdown",
   "metadata": {},
   "source": [
    "The Social Dilemma, a documentary-drama hybrid explores the dangerous human impact of social\r\n",
    "networking, with tech experts sounding the alarm on their own creations as the tech experts sound \r\n",
    "the alarm on the dangerous human impact of social networking. This dataset brings you thetwitter \r\n",
    "responses made with the #TheSocialDilemma hashtag after watching the eye-opening\r\n",
    "documentary \"The Social Dilemma\" released in an OTT platform(Netflix) on September 9th, 2020.\r\n",
    "You can categorize the tweets into different groups to identify the sentiment of the users regarding\r\n",
    "the documentary."
   ]
  },
  {
   "cell_type": "markdown",
   "metadata": {},
   "source": [
    "**Goal**: You are hired as a deep learning engineer and you are asked to categorize the tweets into\n",
    "three categories."
   ]
  },
  {
   "cell_type": "markdown",
   "metadata": {},
   "source": [
    "**Constraints**: You should be using only RNN to generate results and should not be using any \r\n",
    "LSTMor ML classification models to generate results."
   ]
  },
  {
   "cell_type": "markdown",
   "metadata": {},
   "source": [
    "**Data Description**: The dataset was extracted using TwitterAPI, consisting of nearly 20000\n",
    "tweets from twitter users all over the globe!"
   ]
  },
  {
   "cell_type": "markdown",
   "metadata": {},
   "source": [
    "1. **Attribute Information**:\n",
    "2. **user_name** - The name of the user, as they’ve defined it.\n",
    "3. **user_location** - The user-defined location for this account’s profile.\n",
    "4. **user_description** - The user-defined UTF-8 string describing their account.\n",
    "5. **user_created** - Time and date, when the account was created.\n",
    "6. **user_followers** - The number of followers an account currently has.\n",
    "7. **user_friends** – The number of friends an account currently has.\n",
    "8. **user_favourites** - The number of favorites an account currently has.\n",
    "9. **user_verified** - When true, indicates that the user has a verified account.\n",
    "10.**date** - UTC time and date when the Tweet was created.\n",
    "11. **hashtags** - All the other hashtags posted in the tweet along with #TheSocialDilemma\n",
    "12. **source** - Utility used to post the Tweet, Tweets from the Twitter website have a\n",
    "sourcevalue – web\n",
    "13. **is_retweet** - Indicates whether this Tweet has been Retweeted by the authenticating user.\n",
    "14. **clean_text** – Cleaned text of the tweet.\n",
    "15. **Sentiment (target)** - Indicates the sentiment of the tweet, consists of three categories:\n",
    "Positive, neutral, and negative."
   ]
  },
  {
   "cell_type": "markdown",
   "metadata": {},
   "source": [
    "**Provided Files**:\n",
    "\n",
    "**Train_data** - Should be used to feed your model.\n",
    "\n",
    "**Test_data** - Should be used only to generate predictions."
   ]
  },
  {
   "cell_type": "markdown",
   "metadata": {},
   "source": [
    "**Evaluation Criteria**:\n",
    "The evaluation metric for this problem statement is the validation Accuracy Score."
   ]
  },
  {
   "cell_type": "code",
   "execution_count": 2,
   "metadata": {
    "id": "afFjJ7AfRRsL"
   },
   "outputs": [],
   "source": [
    "import numpy as np\n",
    "import pandas as pd\n",
    "from sklearn.model_selection import train_test_split\n",
    "from tensorflow.keras.models import Sequential\n",
    "from tensorflow.keras.layers import Embedding, SimpleRNN, Dense\n",
    "from sklearn.preprocessing import LabelEncoder\n",
    "from tensorflow.keras.preprocessing.text import Tokenizer\n",
    "from tensorflow.keras.preprocessing.sequence import pad_sequences\n",
    "import matplotlib.pyplot as plt\n",
    "%matplotlib inline\n",
    "\n"
   ]
  },
  {
   "cell_type": "code",
   "execution_count": 3,
   "metadata": {
    "id": "HPGmPnPmRU5a"
   },
   "outputs": [],
   "source": [
    "train_data=pd.read_csv(\"/content/drive/MyDrive/colab/tweets_train.csv\")"
   ]
  },
  {
   "cell_type": "code",
   "execution_count": 4,
   "metadata": {
    "id": "vSuXueuTUV42"
   },
   "outputs": [],
   "source": [
    "test_data=pd.read_csv(\"/content/drive/MyDrive/colab/tweets_test.csv\")"
   ]
  },
  {
   "cell_type": "code",
   "execution_count": 5,
   "metadata": {
    "colab": {
     "base_uri": "https://localhost:8080/"
    },
    "id": "GYF28Me3STD6",
    "outputId": "5ee2797b-6ce0-48cc-a455-41057e78d4c7"
   },
   "outputs": [
    {
     "name": "stdout",
     "output_type": "stream",
     "text": [
      "<class 'pandas.core.frame.DataFrame'>\n",
      "RangeIndex: 17000 entries, 0 to 16999\n",
      "Data columns (total 14 columns):\n",
      " #   Column            Non-Null Count  Dtype \n",
      "---  ------            --------------  ----- \n",
      " 0   user_name         16999 non-null  object\n",
      " 1   user_location     13393 non-null  object\n",
      " 2   user_description  15838 non-null  object\n",
      " 3   user_created      17000 non-null  object\n",
      " 4   user_followers    17000 non-null  int64 \n",
      " 5   user_friends      17000 non-null  int64 \n",
      " 6   user_favourites   17000 non-null  int64 \n",
      " 7   user_verified     17000 non-null  bool  \n",
      " 8   date              17000 non-null  object\n",
      " 9   hashtags          13351 non-null  object\n",
      " 10  source            17000 non-null  object\n",
      " 11  is_retweet        17000 non-null  bool  \n",
      " 12  clean_text        16992 non-null  object\n",
      " 13  Sentiment         17000 non-null  object\n",
      "dtypes: bool(2), int64(3), object(9)\n",
      "memory usage: 1.6+ MB\n"
     ]
    }
   ],
   "source": [
    "train_data.info()"
   ]
  },
  {
   "cell_type": "code",
   "execution_count": 6,
   "metadata": {
    "colab": {
     "base_uri": "https://localhost:8080/",
     "height": 451
    },
    "id": "j4NWApYmS8hy",
    "outputId": "fd398def-3819-47f2-8982-262c78d37735"
   },
   "outputs": [
    {
     "data": {
      "text/html": [
       "\n",
       "  <div id=\"df-56034356-ea2c-4939-a5c2-576cce11bb15\" class=\"colab-df-container\">\n",
       "    <div>\n",
       "<style scoped>\n",
       "    .dataframe tbody tr th:only-of-type {\n",
       "        vertical-align: middle;\n",
       "    }\n",
       "\n",
       "    .dataframe tbody tr th {\n",
       "        vertical-align: top;\n",
       "    }\n",
       "\n",
       "    .dataframe thead th {\n",
       "        text-align: right;\n",
       "    }\n",
       "</style>\n",
       "<table border=\"1\" class=\"dataframe\">\n",
       "  <thead>\n",
       "    <tr style=\"text-align: right;\">\n",
       "      <th></th>\n",
       "      <th>user_name</th>\n",
       "      <th>user_location</th>\n",
       "      <th>user_description</th>\n",
       "      <th>user_created</th>\n",
       "      <th>user_followers</th>\n",
       "      <th>user_friends</th>\n",
       "      <th>user_favourites</th>\n",
       "      <th>user_verified</th>\n",
       "      <th>date</th>\n",
       "      <th>hashtags</th>\n",
       "      <th>source</th>\n",
       "      <th>is_retweet</th>\n",
       "      <th>clean_text</th>\n",
       "      <th>Sentiment</th>\n",
       "    </tr>\n",
       "  </thead>\n",
       "  <tbody>\n",
       "    <tr>\n",
       "      <th>0</th>\n",
       "      <td>Romy 👑</td>\n",
       "      <td>Bolton - England</td>\n",
       "      <td>Tables turn, bridges burn, you live and learn.</td>\n",
       "      <td>2009-06-15 09:00:39</td>\n",
       "      <td>525</td>\n",
       "      <td>896</td>\n",
       "      <td>3854</td>\n",
       "      <td>False</td>\n",
       "      <td>2020-09-19 15:19:32</td>\n",
       "      <td>['TheSocialDilemma']</td>\n",
       "      <td>Twitter for Android</td>\n",
       "      <td>False</td>\n",
       "      <td>TheSocialDilemma is an eye opener isn t it ple...</td>\n",
       "      <td>Neutral</td>\n",
       "    </tr>\n",
       "    <tr>\n",
       "      <th>1</th>\n",
       "      <td>TLynn Peterson</td>\n",
       "      <td>Black Canyon City, Arizona</td>\n",
       "      <td>Acquired disability ♿ after an accident. Livin...</td>\n",
       "      <td>2013-05-29 00:17:46</td>\n",
       "      <td>5045</td>\n",
       "      <td>5374</td>\n",
       "      <td>48152</td>\n",
       "      <td>False</td>\n",
       "      <td>2020-09-13 00:31:46</td>\n",
       "      <td>['TheSocialDilemma']</td>\n",
       "      <td>Twitter for Android</td>\n",
       "      <td>False</td>\n",
       "      <td>TheSocialDilemma If we don t agree on what is ...</td>\n",
       "      <td>Positive</td>\n",
       "    </tr>\n",
       "    <tr>\n",
       "      <th>2</th>\n",
       "      <td>Rutger Kosters</td>\n",
       "      <td>Netherlands</td>\n",
       "      <td>Cloud Solution Architect @NetApp | VCDX #209 |...</td>\n",
       "      <td>2014-10-07 09:34:10</td>\n",
       "      <td>574</td>\n",
       "      <td>251</td>\n",
       "      <td>1070</td>\n",
       "      <td>False</td>\n",
       "      <td>2020-09-09 21:10:33</td>\n",
       "      <td>['TheSocialDilemma']</td>\n",
       "      <td>Twitter for Android</td>\n",
       "      <td>False</td>\n",
       "      <td>Watching TheSocialDilemma scary to see social ...</td>\n",
       "      <td>Negative</td>\n",
       "    </tr>\n",
       "    <tr>\n",
       "      <th>3</th>\n",
       "      <td>IDFWU🗯🇿🇼🇿🇦</td>\n",
       "      <td>East London, South Africa</td>\n",
       "      <td>YOU HAVE OPTIONS, YOU CAN’T JUST TAKE WHAT LIF...</td>\n",
       "      <td>2012-08-22 11:09:06</td>\n",
       "      <td>706</td>\n",
       "      <td>618</td>\n",
       "      <td>1320</td>\n",
       "      <td>False</td>\n",
       "      <td>2020-09-11 04:33:08</td>\n",
       "      <td>NaN</td>\n",
       "      <td>Twitter for Android</td>\n",
       "      <td>False</td>\n",
       "      <td>You check your social media before you pee in ...</td>\n",
       "      <td>Positive</td>\n",
       "    </tr>\n",
       "    <tr>\n",
       "      <th>4</th>\n",
       "      <td>Treebel</td>\n",
       "      <td>NaN</td>\n",
       "      <td>NaN</td>\n",
       "      <td>2010-09-25 07:25:31</td>\n",
       "      <td>9</td>\n",
       "      <td>13</td>\n",
       "      <td>55</td>\n",
       "      <td>False</td>\n",
       "      <td>2020-09-17 16:27:38</td>\n",
       "      <td>['thesocialdilemma']</td>\n",
       "      <td>Twitter for iPhone</td>\n",
       "      <td>False</td>\n",
       "      <td>watch thesocialdilemma and see what s actually...</td>\n",
       "      <td>Negative</td>\n",
       "    </tr>\n",
       "  </tbody>\n",
       "</table>\n",
       "</div>\n",
       "    <div class=\"colab-df-buttons\">\n",
       "\n",
       "  <div class=\"colab-df-container\">\n",
       "    <button class=\"colab-df-convert\" onclick=\"convertToInteractive('df-56034356-ea2c-4939-a5c2-576cce11bb15')\"\n",
       "            title=\"Convert this dataframe to an interactive table.\"\n",
       "            style=\"display:none;\">\n",
       "\n",
       "  <svg xmlns=\"http://www.w3.org/2000/svg\" height=\"24px\" viewBox=\"0 -960 960 960\">\n",
       "    <path d=\"M120-120v-720h720v720H120Zm60-500h600v-160H180v160Zm220 220h160v-160H400v160Zm0 220h160v-160H400v160ZM180-400h160v-160H180v160Zm440 0h160v-160H620v160ZM180-180h160v-160H180v160Zm440 0h160v-160H620v160Z\"/>\n",
       "  </svg>\n",
       "    </button>\n",
       "\n",
       "  <style>\n",
       "    .colab-df-container {\n",
       "      display:flex;\n",
       "      gap: 12px;\n",
       "    }\n",
       "\n",
       "    .colab-df-convert {\n",
       "      background-color: #E8F0FE;\n",
       "      border: none;\n",
       "      border-radius: 50%;\n",
       "      cursor: pointer;\n",
       "      display: none;\n",
       "      fill: #1967D2;\n",
       "      height: 32px;\n",
       "      padding: 0 0 0 0;\n",
       "      width: 32px;\n",
       "    }\n",
       "\n",
       "    .colab-df-convert:hover {\n",
       "      background-color: #E2EBFA;\n",
       "      box-shadow: 0px 1px 2px rgba(60, 64, 67, 0.3), 0px 1px 3px 1px rgba(60, 64, 67, 0.15);\n",
       "      fill: #174EA6;\n",
       "    }\n",
       "\n",
       "    .colab-df-buttons div {\n",
       "      margin-bottom: 4px;\n",
       "    }\n",
       "\n",
       "    [theme=dark] .colab-df-convert {\n",
       "      background-color: #3B4455;\n",
       "      fill: #D2E3FC;\n",
       "    }\n",
       "\n",
       "    [theme=dark] .colab-df-convert:hover {\n",
       "      background-color: #434B5C;\n",
       "      box-shadow: 0px 1px 3px 1px rgba(0, 0, 0, 0.15);\n",
       "      filter: drop-shadow(0px 1px 2px rgba(0, 0, 0, 0.3));\n",
       "      fill: #FFFFFF;\n",
       "    }\n",
       "  </style>\n",
       "\n",
       "    <script>\n",
       "      const buttonEl =\n",
       "        document.querySelector('#df-56034356-ea2c-4939-a5c2-576cce11bb15 button.colab-df-convert');\n",
       "      buttonEl.style.display =\n",
       "        google.colab.kernel.accessAllowed ? 'block' : 'none';\n",
       "\n",
       "      async function convertToInteractive(key) {\n",
       "        const element = document.querySelector('#df-56034356-ea2c-4939-a5c2-576cce11bb15');\n",
       "        const dataTable =\n",
       "          await google.colab.kernel.invokeFunction('convertToInteractive',\n",
       "                                                    [key], {});\n",
       "        if (!dataTable) return;\n",
       "\n",
       "        const docLinkHtml = 'Like what you see? Visit the ' +\n",
       "          '<a target=\"_blank\" href=https://colab.research.google.com/notebooks/data_table.ipynb>data table notebook</a>'\n",
       "          + ' to learn more about interactive tables.';\n",
       "        element.innerHTML = '';\n",
       "        dataTable['output_type'] = 'display_data';\n",
       "        await google.colab.output.renderOutput(dataTable, element);\n",
       "        const docLink = document.createElement('div');\n",
       "        docLink.innerHTML = docLinkHtml;\n",
       "        element.appendChild(docLink);\n",
       "      }\n",
       "    </script>\n",
       "  </div>\n",
       "\n",
       "\n",
       "<div id=\"df-970b1d1f-9a64-4891-a0e1-afd0c6f4d1da\">\n",
       "  <button class=\"colab-df-quickchart\" onclick=\"quickchart('df-970b1d1f-9a64-4891-a0e1-afd0c6f4d1da')\"\n",
       "            title=\"Suggest charts\"\n",
       "            style=\"display:none;\">\n",
       "\n",
       "<svg xmlns=\"http://www.w3.org/2000/svg\" height=\"24px\"viewBox=\"0 0 24 24\"\n",
       "     width=\"24px\">\n",
       "    <g>\n",
       "        <path d=\"M19 3H5c-1.1 0-2 .9-2 2v14c0 1.1.9 2 2 2h14c1.1 0 2-.9 2-2V5c0-1.1-.9-2-2-2zM9 17H7v-7h2v7zm4 0h-2V7h2v10zm4 0h-2v-4h2v4z\"/>\n",
       "    </g>\n",
       "</svg>\n",
       "  </button>\n",
       "\n",
       "<style>\n",
       "  .colab-df-quickchart {\n",
       "      --bg-color: #E8F0FE;\n",
       "      --fill-color: #1967D2;\n",
       "      --hover-bg-color: #E2EBFA;\n",
       "      --hover-fill-color: #174EA6;\n",
       "      --disabled-fill-color: #AAA;\n",
       "      --disabled-bg-color: #DDD;\n",
       "  }\n",
       "\n",
       "  [theme=dark] .colab-df-quickchart {\n",
       "      --bg-color: #3B4455;\n",
       "      --fill-color: #D2E3FC;\n",
       "      --hover-bg-color: #434B5C;\n",
       "      --hover-fill-color: #FFFFFF;\n",
       "      --disabled-bg-color: #3B4455;\n",
       "      --disabled-fill-color: #666;\n",
       "  }\n",
       "\n",
       "  .colab-df-quickchart {\n",
       "    background-color: var(--bg-color);\n",
       "    border: none;\n",
       "    border-radius: 50%;\n",
       "    cursor: pointer;\n",
       "    display: none;\n",
       "    fill: var(--fill-color);\n",
       "    height: 32px;\n",
       "    padding: 0;\n",
       "    width: 32px;\n",
       "  }\n",
       "\n",
       "  .colab-df-quickchart:hover {\n",
       "    background-color: var(--hover-bg-color);\n",
       "    box-shadow: 0 1px 2px rgba(60, 64, 67, 0.3), 0 1px 3px 1px rgba(60, 64, 67, 0.15);\n",
       "    fill: var(--button-hover-fill-color);\n",
       "  }\n",
       "\n",
       "  .colab-df-quickchart-complete:disabled,\n",
       "  .colab-df-quickchart-complete:disabled:hover {\n",
       "    background-color: var(--disabled-bg-color);\n",
       "    fill: var(--disabled-fill-color);\n",
       "    box-shadow: none;\n",
       "  }\n",
       "\n",
       "  .colab-df-spinner {\n",
       "    border: 2px solid var(--fill-color);\n",
       "    border-color: transparent;\n",
       "    border-bottom-color: var(--fill-color);\n",
       "    animation:\n",
       "      spin 1s steps(1) infinite;\n",
       "  }\n",
       "\n",
       "  @keyframes spin {\n",
       "    0% {\n",
       "      border-color: transparent;\n",
       "      border-bottom-color: var(--fill-color);\n",
       "      border-left-color: var(--fill-color);\n",
       "    }\n",
       "    20% {\n",
       "      border-color: transparent;\n",
       "      border-left-color: var(--fill-color);\n",
       "      border-top-color: var(--fill-color);\n",
       "    }\n",
       "    30% {\n",
       "      border-color: transparent;\n",
       "      border-left-color: var(--fill-color);\n",
       "      border-top-color: var(--fill-color);\n",
       "      border-right-color: var(--fill-color);\n",
       "    }\n",
       "    40% {\n",
       "      border-color: transparent;\n",
       "      border-right-color: var(--fill-color);\n",
       "      border-top-color: var(--fill-color);\n",
       "    }\n",
       "    60% {\n",
       "      border-color: transparent;\n",
       "      border-right-color: var(--fill-color);\n",
       "    }\n",
       "    80% {\n",
       "      border-color: transparent;\n",
       "      border-right-color: var(--fill-color);\n",
       "      border-bottom-color: var(--fill-color);\n",
       "    }\n",
       "    90% {\n",
       "      border-color: transparent;\n",
       "      border-bottom-color: var(--fill-color);\n",
       "    }\n",
       "  }\n",
       "</style>\n",
       "\n",
       "  <script>\n",
       "    async function quickchart(key) {\n",
       "      const quickchartButtonEl =\n",
       "        document.querySelector('#' + key + ' button');\n",
       "      quickchartButtonEl.disabled = true;  // To prevent multiple clicks.\n",
       "      quickchartButtonEl.classList.add('colab-df-spinner');\n",
       "      try {\n",
       "        const charts = await google.colab.kernel.invokeFunction(\n",
       "            'suggestCharts', [key], {});\n",
       "      } catch (error) {\n",
       "        console.error('Error during call to suggestCharts:', error);\n",
       "      }\n",
       "      quickchartButtonEl.classList.remove('colab-df-spinner');\n",
       "      quickchartButtonEl.classList.add('colab-df-quickchart-complete');\n",
       "    }\n",
       "    (() => {\n",
       "      let quickchartButtonEl =\n",
       "        document.querySelector('#df-970b1d1f-9a64-4891-a0e1-afd0c6f4d1da button');\n",
       "      quickchartButtonEl.style.display =\n",
       "        google.colab.kernel.accessAllowed ? 'block' : 'none';\n",
       "    })();\n",
       "  </script>\n",
       "</div>\n",
       "\n",
       "    </div>\n",
       "  </div>\n"
      ],
      "text/plain": [
       "        user_name               user_location  \\\n",
       "0          Romy 👑            Bolton - England   \n",
       "1  TLynn Peterson  Black Canyon City, Arizona   \n",
       "2  Rutger Kosters                 Netherlands   \n",
       "3      IDFWU🗯🇿🇼🇿🇦   East London, South Africa   \n",
       "4         Treebel                         NaN   \n",
       "\n",
       "                                    user_description         user_created  \\\n",
       "0     Tables turn, bridges burn, you live and learn.  2009-06-15 09:00:39   \n",
       "1  Acquired disability ♿ after an accident. Livin...  2013-05-29 00:17:46   \n",
       "2  Cloud Solution Architect @NetApp | VCDX #209 |...  2014-10-07 09:34:10   \n",
       "3  YOU HAVE OPTIONS, YOU CAN’T JUST TAKE WHAT LIF...  2012-08-22 11:09:06   \n",
       "4                                                NaN  2010-09-25 07:25:31   \n",
       "\n",
       "   user_followers  user_friends  user_favourites  user_verified  \\\n",
       "0             525           896             3854          False   \n",
       "1            5045          5374            48152          False   \n",
       "2             574           251             1070          False   \n",
       "3             706           618             1320          False   \n",
       "4               9            13               55          False   \n",
       "\n",
       "                  date              hashtags               source  is_retweet  \\\n",
       "0  2020-09-19 15:19:32  ['TheSocialDilemma']  Twitter for Android       False   \n",
       "1  2020-09-13 00:31:46  ['TheSocialDilemma']  Twitter for Android       False   \n",
       "2  2020-09-09 21:10:33  ['TheSocialDilemma']  Twitter for Android       False   \n",
       "3  2020-09-11 04:33:08                   NaN  Twitter for Android       False   \n",
       "4  2020-09-17 16:27:38  ['thesocialdilemma']   Twitter for iPhone       False   \n",
       "\n",
       "                                          clean_text Sentiment  \n",
       "0  TheSocialDilemma is an eye opener isn t it ple...   Neutral  \n",
       "1  TheSocialDilemma If we don t agree on what is ...  Positive  \n",
       "2  Watching TheSocialDilemma scary to see social ...  Negative  \n",
       "3  You check your social media before you pee in ...  Positive  \n",
       "4  watch thesocialdilemma and see what s actually...  Negative  "
      ]
     },
     "execution_count": 6,
     "metadata": {},
     "output_type": "execute_result"
    }
   ],
   "source": [
    "train_data.head()"
   ]
  },
  {
   "cell_type": "code",
   "execution_count": 7,
   "metadata": {
    "colab": {
     "base_uri": "https://localhost:8080/"
    },
    "id": "4woaccqITFPD",
    "outputId": "6e5304fb-5795-4338-c1be-28e9f866c845"
   },
   "outputs": [
    {
     "name": "stdout",
     "output_type": "stream",
     "text": [
      "<class 'pandas.core.frame.DataFrame'>\n",
      "RangeIndex: 3068 entries, 0 to 3067\n",
      "Data columns (total 13 columns):\n",
      " #   Column            Non-Null Count  Dtype \n",
      "---  ------            --------------  ----- \n",
      " 0   user_name         3068 non-null   object\n",
      " 1   user_location     2467 non-null   object\n",
      " 2   user_description  2847 non-null   object\n",
      " 3   user_created      3068 non-null   object\n",
      " 4   user_followers    3068 non-null   int64 \n",
      " 5   user_friends      3068 non-null   int64 \n",
      " 6   user_favourites   3068 non-null   int64 \n",
      " 7   user_verified     3068 non-null   bool  \n",
      " 8   date              3068 non-null   object\n",
      " 9   hashtags          2420 non-null   object\n",
      " 10  source            3068 non-null   object\n",
      " 11  is_retweet        3068 non-null   bool  \n",
      " 12  clean_text        3067 non-null   object\n",
      "dtypes: bool(2), int64(3), object(8)\n",
      "memory usage: 269.8+ KB\n"
     ]
    }
   ],
   "source": [
    "test_data.info()"
   ]
  },
  {
   "cell_type": "code",
   "execution_count": 8,
   "metadata": {
    "colab": {
     "base_uri": "https://localhost:8080/",
     "height": 399
    },
    "id": "IVs7YkLdVj4V",
    "outputId": "0f378682-63d3-4559-9ea0-5b4b06c8083a"
   },
   "outputs": [
    {
     "data": {
      "text/html": [
       "\n",
       "  <div id=\"df-74bfb74a-2a04-40de-b588-b0cc0fc988a9\" class=\"colab-df-container\">\n",
       "    <div>\n",
       "<style scoped>\n",
       "    .dataframe tbody tr th:only-of-type {\n",
       "        vertical-align: middle;\n",
       "    }\n",
       "\n",
       "    .dataframe tbody tr th {\n",
       "        vertical-align: top;\n",
       "    }\n",
       "\n",
       "    .dataframe thead th {\n",
       "        text-align: right;\n",
       "    }\n",
       "</style>\n",
       "<table border=\"1\" class=\"dataframe\">\n",
       "  <thead>\n",
       "    <tr style=\"text-align: right;\">\n",
       "      <th></th>\n",
       "      <th>user_name</th>\n",
       "      <th>user_location</th>\n",
       "      <th>user_description</th>\n",
       "      <th>user_created</th>\n",
       "      <th>user_followers</th>\n",
       "      <th>user_friends</th>\n",
       "      <th>user_favourites</th>\n",
       "      <th>user_verified</th>\n",
       "      <th>date</th>\n",
       "      <th>hashtags</th>\n",
       "      <th>source</th>\n",
       "      <th>is_retweet</th>\n",
       "      <th>clean_text</th>\n",
       "    </tr>\n",
       "  </thead>\n",
       "  <tbody>\n",
       "    <tr>\n",
       "      <th>0</th>\n",
       "      <td>Doug Webb</td>\n",
       "      <td>Probably Europe</td>\n",
       "      <td>I develop methods for effective cooperation, w...</td>\n",
       "      <td>2015-12-12 15:22:58</td>\n",
       "      <td>157</td>\n",
       "      <td>228</td>\n",
       "      <td>496</td>\n",
       "      <td>False</td>\n",
       "      <td>2020-09-15 22:53:36</td>\n",
       "      <td>['theSocialDilemma', 'joinMastodon']</td>\n",
       "      <td>Twitter Web App</td>\n",
       "      <td>False</td>\n",
       "      <td>Watch theSocialDilemma then joinMastodon</td>\n",
       "    </tr>\n",
       "    <tr>\n",
       "      <th>1</th>\n",
       "      <td>Dan Reynish</td>\n",
       "      <td>Medicine Hat, Alberta</td>\n",
       "      <td>News Anchor at Noon and 5 pm on CHAT TV. Canad...</td>\n",
       "      <td>2011-09-10 12:17:10</td>\n",
       "      <td>1722</td>\n",
       "      <td>2500</td>\n",
       "      <td>13912</td>\n",
       "      <td>False</td>\n",
       "      <td>2020-09-12 04:43:03</td>\n",
       "      <td>['WeTheNorth']</td>\n",
       "      <td>Twitter Web App</td>\n",
       "      <td>False</td>\n",
       "      <td>With the 2019 2020 NBA season officially over ...</td>\n",
       "    </tr>\n",
       "    <tr>\n",
       "      <th>2</th>\n",
       "      <td>🌤</td>\n",
       "      <td>NaN</td>\n",
       "      <td>NaN</td>\n",
       "      <td>2011-06-01 02:23:57</td>\n",
       "      <td>880</td>\n",
       "      <td>585</td>\n",
       "      <td>205</td>\n",
       "      <td>False</td>\n",
       "      <td>2020-09-19 07:06:53</td>\n",
       "      <td>['TheSocialDilemma']</td>\n",
       "      <td>Twitter for iPhone</td>\n",
       "      <td>False</td>\n",
       "      <td>if you want to really know about people go tal...</td>\n",
       "    </tr>\n",
       "    <tr>\n",
       "      <th>3</th>\n",
       "      <td>“IT IS WHAT IT IS.”🇰🇪🇳🇿🇺🇸</td>\n",
       "      <td>WA</td>\n",
       "      <td>Heliophile🌞☀️• #Rugby • Wildlifer • #HIV • #So...</td>\n",
       "      <td>2009-04-17 13:35:02</td>\n",
       "      <td>1143</td>\n",
       "      <td>2692</td>\n",
       "      <td>11999</td>\n",
       "      <td>False</td>\n",
       "      <td>2020-09-12 18:28:18</td>\n",
       "      <td>['TheSocialDilemma', 'Netflix']</td>\n",
       "      <td>Twitter for iPhone</td>\n",
       "      <td>False</td>\n",
       "      <td>Have you watched TheSocialDilemma on Netflix</td>\n",
       "    </tr>\n",
       "    <tr>\n",
       "      <th>4</th>\n",
       "      <td>Mahima Sood</td>\n",
       "      <td>NaN</td>\n",
       "      <td>Amy Dunne X Holly Golightly || Data Scientist ...</td>\n",
       "      <td>2018-01-26 21:57:22</td>\n",
       "      <td>18</td>\n",
       "      <td>65</td>\n",
       "      <td>263</td>\n",
       "      <td>False</td>\n",
       "      <td>2020-09-12 18:48:53</td>\n",
       "      <td>['TheSocialDilemma']</td>\n",
       "      <td>Twitter for iPhone</td>\n",
       "      <td>False</td>\n",
       "      <td>Highly recommend TheSocialDilemma on</td>\n",
       "    </tr>\n",
       "  </tbody>\n",
       "</table>\n",
       "</div>\n",
       "    <div class=\"colab-df-buttons\">\n",
       "\n",
       "  <div class=\"colab-df-container\">\n",
       "    <button class=\"colab-df-convert\" onclick=\"convertToInteractive('df-74bfb74a-2a04-40de-b588-b0cc0fc988a9')\"\n",
       "            title=\"Convert this dataframe to an interactive table.\"\n",
       "            style=\"display:none;\">\n",
       "\n",
       "  <svg xmlns=\"http://www.w3.org/2000/svg\" height=\"24px\" viewBox=\"0 -960 960 960\">\n",
       "    <path d=\"M120-120v-720h720v720H120Zm60-500h600v-160H180v160Zm220 220h160v-160H400v160Zm0 220h160v-160H400v160ZM180-400h160v-160H180v160Zm440 0h160v-160H620v160ZM180-180h160v-160H180v160Zm440 0h160v-160H620v160Z\"/>\n",
       "  </svg>\n",
       "    </button>\n",
       "\n",
       "  <style>\n",
       "    .colab-df-container {\n",
       "      display:flex;\n",
       "      gap: 12px;\n",
       "    }\n",
       "\n",
       "    .colab-df-convert {\n",
       "      background-color: #E8F0FE;\n",
       "      border: none;\n",
       "      border-radius: 50%;\n",
       "      cursor: pointer;\n",
       "      display: none;\n",
       "      fill: #1967D2;\n",
       "      height: 32px;\n",
       "      padding: 0 0 0 0;\n",
       "      width: 32px;\n",
       "    }\n",
       "\n",
       "    .colab-df-convert:hover {\n",
       "      background-color: #E2EBFA;\n",
       "      box-shadow: 0px 1px 2px rgba(60, 64, 67, 0.3), 0px 1px 3px 1px rgba(60, 64, 67, 0.15);\n",
       "      fill: #174EA6;\n",
       "    }\n",
       "\n",
       "    .colab-df-buttons div {\n",
       "      margin-bottom: 4px;\n",
       "    }\n",
       "\n",
       "    [theme=dark] .colab-df-convert {\n",
       "      background-color: #3B4455;\n",
       "      fill: #D2E3FC;\n",
       "    }\n",
       "\n",
       "    [theme=dark] .colab-df-convert:hover {\n",
       "      background-color: #434B5C;\n",
       "      box-shadow: 0px 1px 3px 1px rgba(0, 0, 0, 0.15);\n",
       "      filter: drop-shadow(0px 1px 2px rgba(0, 0, 0, 0.3));\n",
       "      fill: #FFFFFF;\n",
       "    }\n",
       "  </style>\n",
       "\n",
       "    <script>\n",
       "      const buttonEl =\n",
       "        document.querySelector('#df-74bfb74a-2a04-40de-b588-b0cc0fc988a9 button.colab-df-convert');\n",
       "      buttonEl.style.display =\n",
       "        google.colab.kernel.accessAllowed ? 'block' : 'none';\n",
       "\n",
       "      async function convertToInteractive(key) {\n",
       "        const element = document.querySelector('#df-74bfb74a-2a04-40de-b588-b0cc0fc988a9');\n",
       "        const dataTable =\n",
       "          await google.colab.kernel.invokeFunction('convertToInteractive',\n",
       "                                                    [key], {});\n",
       "        if (!dataTable) return;\n",
       "\n",
       "        const docLinkHtml = 'Like what you see? Visit the ' +\n",
       "          '<a target=\"_blank\" href=https://colab.research.google.com/notebooks/data_table.ipynb>data table notebook</a>'\n",
       "          + ' to learn more about interactive tables.';\n",
       "        element.innerHTML = '';\n",
       "        dataTable['output_type'] = 'display_data';\n",
       "        await google.colab.output.renderOutput(dataTable, element);\n",
       "        const docLink = document.createElement('div');\n",
       "        docLink.innerHTML = docLinkHtml;\n",
       "        element.appendChild(docLink);\n",
       "      }\n",
       "    </script>\n",
       "  </div>\n",
       "\n",
       "\n",
       "<div id=\"df-6695cf51-d080-4fe4-8766-f71718157c34\">\n",
       "  <button class=\"colab-df-quickchart\" onclick=\"quickchart('df-6695cf51-d080-4fe4-8766-f71718157c34')\"\n",
       "            title=\"Suggest charts\"\n",
       "            style=\"display:none;\">\n",
       "\n",
       "<svg xmlns=\"http://www.w3.org/2000/svg\" height=\"24px\"viewBox=\"0 0 24 24\"\n",
       "     width=\"24px\">\n",
       "    <g>\n",
       "        <path d=\"M19 3H5c-1.1 0-2 .9-2 2v14c0 1.1.9 2 2 2h14c1.1 0 2-.9 2-2V5c0-1.1-.9-2-2-2zM9 17H7v-7h2v7zm4 0h-2V7h2v10zm4 0h-2v-4h2v4z\"/>\n",
       "    </g>\n",
       "</svg>\n",
       "  </button>\n",
       "\n",
       "<style>\n",
       "  .colab-df-quickchart {\n",
       "      --bg-color: #E8F0FE;\n",
       "      --fill-color: #1967D2;\n",
       "      --hover-bg-color: #E2EBFA;\n",
       "      --hover-fill-color: #174EA6;\n",
       "      --disabled-fill-color: #AAA;\n",
       "      --disabled-bg-color: #DDD;\n",
       "  }\n",
       "\n",
       "  [theme=dark] .colab-df-quickchart {\n",
       "      --bg-color: #3B4455;\n",
       "      --fill-color: #D2E3FC;\n",
       "      --hover-bg-color: #434B5C;\n",
       "      --hover-fill-color: #FFFFFF;\n",
       "      --disabled-bg-color: #3B4455;\n",
       "      --disabled-fill-color: #666;\n",
       "  }\n",
       "\n",
       "  .colab-df-quickchart {\n",
       "    background-color: var(--bg-color);\n",
       "    border: none;\n",
       "    border-radius: 50%;\n",
       "    cursor: pointer;\n",
       "    display: none;\n",
       "    fill: var(--fill-color);\n",
       "    height: 32px;\n",
       "    padding: 0;\n",
       "    width: 32px;\n",
       "  }\n",
       "\n",
       "  .colab-df-quickchart:hover {\n",
       "    background-color: var(--hover-bg-color);\n",
       "    box-shadow: 0 1px 2px rgba(60, 64, 67, 0.3), 0 1px 3px 1px rgba(60, 64, 67, 0.15);\n",
       "    fill: var(--button-hover-fill-color);\n",
       "  }\n",
       "\n",
       "  .colab-df-quickchart-complete:disabled,\n",
       "  .colab-df-quickchart-complete:disabled:hover {\n",
       "    background-color: var(--disabled-bg-color);\n",
       "    fill: var(--disabled-fill-color);\n",
       "    box-shadow: none;\n",
       "  }\n",
       "\n",
       "  .colab-df-spinner {\n",
       "    border: 2px solid var(--fill-color);\n",
       "    border-color: transparent;\n",
       "    border-bottom-color: var(--fill-color);\n",
       "    animation:\n",
       "      spin 1s steps(1) infinite;\n",
       "  }\n",
       "\n",
       "  @keyframes spin {\n",
       "    0% {\n",
       "      border-color: transparent;\n",
       "      border-bottom-color: var(--fill-color);\n",
       "      border-left-color: var(--fill-color);\n",
       "    }\n",
       "    20% {\n",
       "      border-color: transparent;\n",
       "      border-left-color: var(--fill-color);\n",
       "      border-top-color: var(--fill-color);\n",
       "    }\n",
       "    30% {\n",
       "      border-color: transparent;\n",
       "      border-left-color: var(--fill-color);\n",
       "      border-top-color: var(--fill-color);\n",
       "      border-right-color: var(--fill-color);\n",
       "    }\n",
       "    40% {\n",
       "      border-color: transparent;\n",
       "      border-right-color: var(--fill-color);\n",
       "      border-top-color: var(--fill-color);\n",
       "    }\n",
       "    60% {\n",
       "      border-color: transparent;\n",
       "      border-right-color: var(--fill-color);\n",
       "    }\n",
       "    80% {\n",
       "      border-color: transparent;\n",
       "      border-right-color: var(--fill-color);\n",
       "      border-bottom-color: var(--fill-color);\n",
       "    }\n",
       "    90% {\n",
       "      border-color: transparent;\n",
       "      border-bottom-color: var(--fill-color);\n",
       "    }\n",
       "  }\n",
       "</style>\n",
       "\n",
       "  <script>\n",
       "    async function quickchart(key) {\n",
       "      const quickchartButtonEl =\n",
       "        document.querySelector('#' + key + ' button');\n",
       "      quickchartButtonEl.disabled = true;  // To prevent multiple clicks.\n",
       "      quickchartButtonEl.classList.add('colab-df-spinner');\n",
       "      try {\n",
       "        const charts = await google.colab.kernel.invokeFunction(\n",
       "            'suggestCharts', [key], {});\n",
       "      } catch (error) {\n",
       "        console.error('Error during call to suggestCharts:', error);\n",
       "      }\n",
       "      quickchartButtonEl.classList.remove('colab-df-spinner');\n",
       "      quickchartButtonEl.classList.add('colab-df-quickchart-complete');\n",
       "    }\n",
       "    (() => {\n",
       "      let quickchartButtonEl =\n",
       "        document.querySelector('#df-6695cf51-d080-4fe4-8766-f71718157c34 button');\n",
       "      quickchartButtonEl.style.display =\n",
       "        google.colab.kernel.accessAllowed ? 'block' : 'none';\n",
       "    })();\n",
       "  </script>\n",
       "</div>\n",
       "\n",
       "    </div>\n",
       "  </div>\n"
      ],
      "text/plain": [
       "                   user_name          user_location  \\\n",
       "0                  Doug Webb        Probably Europe   \n",
       "1                Dan Reynish  Medicine Hat, Alberta   \n",
       "2                          🌤                    NaN   \n",
       "3  “IT IS WHAT IT IS.”🇰🇪🇳🇿🇺🇸                     WA   \n",
       "4                Mahima Sood                    NaN   \n",
       "\n",
       "                                    user_description         user_created  \\\n",
       "0  I develop methods for effective cooperation, w...  2015-12-12 15:22:58   \n",
       "1  News Anchor at Noon and 5 pm on CHAT TV. Canad...  2011-09-10 12:17:10   \n",
       "2                                                NaN  2011-06-01 02:23:57   \n",
       "3  Heliophile🌞☀️• #Rugby • Wildlifer • #HIV • #So...  2009-04-17 13:35:02   \n",
       "4  Amy Dunne X Holly Golightly || Data Scientist ...  2018-01-26 21:57:22   \n",
       "\n",
       "   user_followers  user_friends  user_favourites  user_verified  \\\n",
       "0             157           228              496          False   \n",
       "1            1722          2500            13912          False   \n",
       "2             880           585              205          False   \n",
       "3            1143          2692            11999          False   \n",
       "4              18            65              263          False   \n",
       "\n",
       "                  date                              hashtags  \\\n",
       "0  2020-09-15 22:53:36  ['theSocialDilemma', 'joinMastodon']   \n",
       "1  2020-09-12 04:43:03                        ['WeTheNorth']   \n",
       "2  2020-09-19 07:06:53                  ['TheSocialDilemma']   \n",
       "3  2020-09-12 18:28:18       ['TheSocialDilemma', 'Netflix']   \n",
       "4  2020-09-12 18:48:53                  ['TheSocialDilemma']   \n",
       "\n",
       "               source  is_retweet  \\\n",
       "0     Twitter Web App       False   \n",
       "1     Twitter Web App       False   \n",
       "2  Twitter for iPhone       False   \n",
       "3  Twitter for iPhone       False   \n",
       "4  Twitter for iPhone       False   \n",
       "\n",
       "                                          clean_text  \n",
       "0           Watch theSocialDilemma then joinMastodon  \n",
       "1  With the 2019 2020 NBA season officially over ...  \n",
       "2  if you want to really know about people go tal...  \n",
       "3       Have you watched TheSocialDilemma on Netflix  \n",
       "4               Highly recommend TheSocialDilemma on  "
      ]
     },
     "execution_count": 8,
     "metadata": {},
     "output_type": "execute_result"
    }
   ],
   "source": [
    "test_data.head()"
   ]
  },
  {
   "cell_type": "code",
   "execution_count": 9,
   "metadata": {
    "colab": {
     "base_uri": "https://localhost:8080/"
    },
    "id": "YvBgm0fJVc1V",
    "outputId": "7d7d03ac-12e1-4f04-c215-2d44f25978fa"
   },
   "outputs": [
    {
     "data": {
      "text/plain": [
       "(17000, 14)"
      ]
     },
     "execution_count": 9,
     "metadata": {},
     "output_type": "execute_result"
    }
   ],
   "source": [
    "train_data.shape"
   ]
  },
  {
   "cell_type": "code",
   "execution_count": 10,
   "metadata": {
    "colab": {
     "base_uri": "https://localhost:8080/"
    },
    "id": "mOHCGvblWAfb",
    "outputId": "d6dd9a51-e1e7-4257-95b8-6cabf0913056"
   },
   "outputs": [
    {
     "data": {
      "text/plain": [
       "0        TheSocialDilemma is an eye opener isn t it ple...\n",
       "1        TheSocialDilemma If we don t agree on what is ...\n",
       "2        Watching TheSocialDilemma scary to see social ...\n",
       "3        You check your social media before you pee in ...\n",
       "4        watch thesocialdilemma and see what s actually...\n",
       "                               ...                        \n",
       "16995                            Watching TheSocialDilemma\n",
       "16996    If you re not paying for the product you are t...\n",
       "16997                  Watching TheSocialDilemma Let s see\n",
       "16998    Yes TheSocialDilemma what a perfect time to be...\n",
       "16999    had the impression that is actually sitting in...\n",
       "Name: clean_text, Length: 17000, dtype: object"
      ]
     },
     "execution_count": 10,
     "metadata": {},
     "output_type": "execute_result"
    }
   ],
   "source": [
    "train_data.clean_text"
   ]
  },
  {
   "cell_type": "code",
   "execution_count": 11,
   "metadata": {
    "colab": {
     "base_uri": "https://localhost:8080/"
    },
    "id": "p4h40KuFWtgs",
    "outputId": "e9b9c971-f31f-40e4-ecc4-9405febe38be"
   },
   "outputs": [
    {
     "data": {
      "text/plain": [
       "0         Neutral\n",
       "1        Positive\n",
       "2        Negative\n",
       "3        Positive\n",
       "4        Negative\n",
       "           ...   \n",
       "16995     Neutral\n",
       "16996     Neutral\n",
       "16997     Neutral\n",
       "16998    Positive\n",
       "16999    Negative\n",
       "Name: Sentiment, Length: 17000, dtype: object"
      ]
     },
     "execution_count": 11,
     "metadata": {},
     "output_type": "execute_result"
    }
   ],
   "source": [
    "train_data.Sentiment"
   ]
  },
  {
   "cell_type": "code",
   "execution_count": 12,
   "metadata": {
    "id": "ifiwoHC_fFFC"
   },
   "outputs": [],
   "source": [
    "# Check for null values in 'clean_text'\n",
    "train_data = train_data.dropna(subset=['clean_text'])\n"
   ]
  },
  {
   "cell_type": "code",
   "execution_count": 13,
   "metadata": {
    "colab": {
     "base_uri": "https://localhost:8080/"
    },
    "id": "UMoBM7LJpBQi",
    "outputId": "0bd7022a-b785-41ef-dced-c6f6ac65cce5"
   },
   "outputs": [
    {
     "name": "stderr",
     "output_type": "stream",
     "text": [
      "<ipython-input-13-38075ee871b9>:3: SettingWithCopyWarning: \n",
      "A value is trying to be set on a copy of a slice from a DataFrame.\n",
      "Try using .loc[row_indexer,col_indexer] = value instead\n",
      "\n",
      "See the caveats in the documentation: https://pandas.pydata.org/pandas-docs/stable/user_guide/indexing.html#returning-a-view-versus-a-copy\n",
      "  train_data['Sentiment'] = label_encoder.fit_transform(train_data['Sentiment'])\n"
     ]
    }
   ],
   "source": [
    "# Encode the target variable\n",
    "label_encoder = LabelEncoder()\n",
    "train_data['Sentiment'] = label_encoder.fit_transform(train_data['Sentiment'])"
   ]
  },
  {
   "cell_type": "code",
   "execution_count": 14,
   "metadata": {
    "id": "9aooCKlxpLUr"
   },
   "outputs": [],
   "source": [
    "# Tokenize and pad the text\n",
    "tokenizer = Tokenizer(num_words=5000, oov_token='<OOV>')\n",
    "tokenizer.fit_on_texts(train_data['clean_text'])"
   ]
  },
  {
   "cell_type": "code",
   "execution_count": 15,
   "metadata": {
    "id": "MluGN29PpP_d"
   },
   "outputs": [],
   "source": [
    "X = tokenizer.texts_to_sequences(train_data['clean_text'])\n",
    "X = pad_sequences(X, maxlen=100, padding='post')"
   ]
  },
  {
   "cell_type": "code",
   "execution_count": 16,
   "metadata": {
    "id": "cMGC4ceYpTdu"
   },
   "outputs": [],
   "source": [
    "y = train_data['Sentiment']"
   ]
  },
  {
   "cell_type": "code",
   "execution_count": 17,
   "metadata": {
    "id": "_U219HhZpYWW"
   },
   "outputs": [],
   "source": [
    "#  Building the RNN Model\n",
    "model = Sequential()\n",
    "model.add(Embedding(input_dim=10000, output_dim=32, input_length=100))  # Adjust input_length\n",
    "model.add(SimpleRNN(units=32))\n",
    "model.add(Dense(units=3, activation='softmax'))\n",
    "\n"
   ]
  },
  {
   "cell_type": "code",
   "execution_count": 18,
   "metadata": {
    "id": "YmoApYZVqy2g"
   },
   "outputs": [],
   "source": [
    "#  Compiling the Model\n",
    "model.compile(loss='sparse_categorical_crossentropy', optimizer='adam', metrics=['accuracy'])\n"
   ]
  },
  {
   "cell_type": "code",
   "execution_count": 19,
   "metadata": {
    "colab": {
     "base_uri": "https://localhost:8080/"
    },
    "id": "xWg1Vbkwq8TI",
    "outputId": "45791f4c-1e78-4c99-8512-d042e95e286d"
   },
   "outputs": [
    {
     "name": "stdout",
     "output_type": "stream",
     "text": [
      "Epoch 1/10\n",
      "425/425 [==============================] - 56s 125ms/step - loss: 0.9561 - accuracy: 0.5664 - val_loss: 0.8946 - val_accuracy: 0.6155\n",
      "Epoch 2/10\n",
      "425/425 [==============================] - 40s 95ms/step - loss: 0.8125 - accuracy: 0.6709 - val_loss: 0.8263 - val_accuracy: 0.6537\n",
      "Epoch 3/10\n",
      "425/425 [==============================] - 39s 91ms/step - loss: 0.7345 - accuracy: 0.7061 - val_loss: 0.7802 - val_accuracy: 0.6858\n",
      "Epoch 4/10\n",
      "425/425 [==============================] - 40s 94ms/step - loss: 0.6243 - accuracy: 0.7566 - val_loss: 0.7147 - val_accuracy: 0.7314\n",
      "Epoch 5/10\n",
      "425/425 [==============================] - 38s 89ms/step - loss: 0.5695 - accuracy: 0.7808 - val_loss: 0.7409 - val_accuracy: 0.7276\n",
      "Epoch 6/10\n",
      "425/425 [==============================] - 37s 88ms/step - loss: 0.5047 - accuracy: 0.8120 - val_loss: 0.7516 - val_accuracy: 0.7373\n",
      "Epoch 7/10\n",
      "425/425 [==============================] - 38s 91ms/step - loss: 0.6414 - accuracy: 0.7544 - val_loss: 0.8988 - val_accuracy: 0.6546\n",
      "Epoch 8/10\n",
      "425/425 [==============================] - 40s 94ms/step - loss: 0.5243 - accuracy: 0.8050 - val_loss: 0.7146 - val_accuracy: 0.7246\n",
      "Epoch 9/10\n",
      "425/425 [==============================] - 38s 89ms/step - loss: 0.4496 - accuracy: 0.8418 - val_loss: 0.7517 - val_accuracy: 0.7279\n",
      "Epoch 10/10\n",
      "425/425 [==============================] - 37s 88ms/step - loss: 0.3940 - accuracy: 0.8681 - val_loss: 0.8103 - val_accuracy: 0.7217\n"
     ]
    },
    {
     "data": {
      "text/plain": [
       "<keras.src.callbacks.History at 0x78523094a110>"
      ]
     },
     "execution_count": 19,
     "metadata": {},
     "output_type": "execute_result"
    }
   ],
   "source": [
    "# Training the Model\n",
    "X_train, X_test, y_train, y_test = train_test_split(X, y, test_size=0.2, random_state=42)\n",
    "model.fit(X_train, y_train, validation_data=(X_test, y_test), epochs=10, batch_size=32)\n"
   ]
  },
  {
   "cell_type": "code",
   "execution_count": 20,
   "metadata": {
    "colab": {
     "base_uri": "https://localhost:8080/"
    },
    "id": "JCegTVXv2pt0",
    "outputId": "847a5999-e740-4936-a976-6bf6f5671636"
   },
   "outputs": [
    {
     "name": "stdout",
     "output_type": "stream",
     "text": [
      "Model: \"sequential\"\n",
      "_________________________________________________________________\n",
      " Layer (type)                Output Shape              Param #   \n",
      "=================================================================\n",
      " embedding (Embedding)       (None, 100, 32)           320000    \n",
      "                                                                 \n",
      " simple_rnn (SimpleRNN)      (None, 32)                2080      \n",
      "                                                                 \n",
      " dense (Dense)               (None, 3)                 99        \n",
      "                                                                 \n",
      "=================================================================\n",
      "Total params: 322179 (1.23 MB)\n",
      "Trainable params: 322179 (1.23 MB)\n",
      "Non-trainable params: 0 (0.00 Byte)\n",
      "_________________________________________________________________\n"
     ]
    }
   ],
   "source": [
    "model.summary()"
   ]
  },
  {
   "cell_type": "code",
   "execution_count": 21,
   "metadata": {
    "colab": {
     "base_uri": "https://localhost:8080/"
    },
    "id": "E6AOuOENrMA4",
    "outputId": "27a648ca-9c39-4059-8b1a-c64146a0aee0"
   },
   "outputs": [
    {
     "name": "stdout",
     "output_type": "stream",
     "text": [
      "107/107 [==============================] - 1s 9ms/step - loss: 0.8103 - accuracy: 0.7217\n",
      "Validation Accuracy: 0.7216828465461731\n"
     ]
    }
   ],
   "source": [
    "#  Evaluating the Model\n",
    "accuracy = model.evaluate(X_test, y_test)[1]\n",
    "print(\"Validation Accuracy:\", accuracy)\n"
   ]
  },
  {
   "cell_type": "code",
   "execution_count": 22,
   "metadata": {
    "id": "6U3H79G6uCRC"
   },
   "outputs": [],
   "source": [
    "#  Making Predictions (for the Test_data)\n",
    "# Check for null values in 'clean_text'\n",
    "test_data = test_data.dropna(subset=['clean_text'])"
   ]
  },
  {
   "cell_type": "code",
   "execution_count": 23,
   "metadata": {
    "id": "mZvYp6w7wZhH"
   },
   "outputs": [],
   "source": [
    "test_X = tokenizer.texts_to_sequences(test_data['clean_text'])\n"
   ]
  },
  {
   "cell_type": "code",
   "execution_count": 24,
   "metadata": {
    "id": "AMj5YpRWwdME"
   },
   "outputs": [],
   "source": [
    "test_X = pad_sequences(test_X,maxlen=100)\n"
   ]
  },
  {
   "cell_type": "code",
   "execution_count": 25,
   "metadata": {
    "colab": {
     "base_uri": "https://localhost:8080/"
    },
    "id": "rDgc4Pwfwkjt",
    "outputId": "b36c1a1c-75f3-462b-901a-67cd5233a449"
   },
   "outputs": [
    {
     "name": "stdout",
     "output_type": "stream",
     "text": [
      "96/96 [==============================] - 1s 9ms/step\n"
     ]
    }
   ],
   "source": [
    "predictions = model.predict(test_X)\n"
   ]
  },
  {
   "cell_type": "code",
   "execution_count": 28,
   "metadata": {
    "id": "ymbVKysx-7pl"
   },
   "outputs": [],
   "source": [
    "predicted_sentiment = np.argmax(predictions, axis=1)"
   ]
  },
  {
   "cell_type": "code",
   "execution_count": 29,
   "metadata": {
    "id": "yJnZZSBNK5ix"
   },
   "outputs": [],
   "source": [
    "# Map numerical labels back to sentiment categories\n",
    "sentiment_mapping_reverse = {0: 'Positive', 1: 'Neutral', 2: 'Negative'}\n",
    "\n",
    "# Convert predicted labels to sentiment categories\n",
    "predicted_sentiment = [sentiment_mapping_reverse.get(label, 'Unknown') for label in predicted_sentiment]"
   ]
  },
  {
   "cell_type": "code",
   "execution_count": 30,
   "metadata": {
    "colab": {
     "base_uri": "https://localhost:8080/",
     "height": 424
    },
    "id": "n6lZBAjy6ui0",
    "outputId": "b54048ff-4ec4-41c9-d06e-82a6c851ff50"
   },
   "outputs": [
    {
     "data": {
      "text/plain": [
       "<Axes: ylabel='Sentiment'>"
      ]
     },
     "execution_count": 30,
     "metadata": {},
     "output_type": "execute_result"
    },
    {
     "data": {
      "image/png": "[encoded data removed]",
      "text/plain": [
       "<Figure size 640x480 with 1 Axes>"
      ]
     },
     "metadata": {},
     "output_type": "display_data"
    }
   ],
   "source": [
    "y_train.value_counts().plot(kind=\"pie\",autopct=\"%.2f%%\")\n"
   ]
  },
  {
   "cell_type": "code",
   "execution_count": 32,
   "metadata": {
    "id": "ysY6qMqmBheP"
   },
   "outputs": [],
   "source": [
    "predicted_sentiment=pd.DataFrame(predicted_sentiment)"
   ]
  },
  {
   "cell_type": "code",
   "execution_count": 33,
   "metadata": {
    "colab": {
     "base_uri": "https://localhost:8080/",
     "height": 424
    },
    "id": "ztcdnDmH86-E",
    "outputId": "b0717531-8a99-40de-d4af-738fd2f22bb9"
   },
   "outputs": [
    {
     "data": {
      "text/plain": [
       "<Axes: >"
      ]
     },
     "execution_count": 33,
     "metadata": {},
     "output_type": "execute_result"
    },
    {
     "data": {
      "image/png": "[encoded data removed]",
      "text/plain": [
       "<Figure size 640x480 with 1 Axes>"
      ]
     },
     "metadata": {},
     "output_type": "display_data"
    }
   ],
   "source": [
    "predicted_sentiment.value_counts().plot(kind=\"pie\",autopct=\"%.2f%%\")"
   ]
  },
  {
   "cell_type": "code",
   "execution_count": 34,
   "metadata": {
    "colab": {
     "base_uri": "https://localhost:8080/"
    },
    "id": "NuZmNU3B9c7H",
    "outputId": "e651fe04-549b-4940-c6b6-5c0e7c3ff684"
   },
   "outputs": [
    {
     "data": {
      "text/plain": [
       "Negative    2624\n",
       "Neutral      395\n",
       "Positive      48\n",
       "dtype: int64"
      ]
     },
     "execution_count": 34,
     "metadata": {},
     "output_type": "execute_result"
    }
   ],
   "source": [
    "predicted_sentiment.value_counts()"
   ]
  },
  {
   "cell_type": "code",
   "execution_count": 34,
   "metadata": {
    "id": "AGexfLiI8GOs"
   },
   "outputs": [],
   "source": []
  }
 ],
 "metadata": {
  "accelerator": "GPU",
  "colab": {
   "gpuType": "T4",
   "provenance": []
  },
  "kernelspec": {
   "display_name": "Python 3 (ipykernel)",
   "language": "python",
   "name": "python3"
  },
  "language_info": {
   "codemirror_mode": {
    "name": "ipython",
    "version": 3
   },
   "file_extension": ".py",
   "mimetype": "text/x-python",
   "name": "python",
   "nbconvert_exporter": "python",
   "pygments_lexer": "ipython3",
   "version": "3.11.7"
  }
 },
 "nbformat": 4,
 "nbformat_minor": 4
}
